{
 "cells": [
  {
   "cell_type": "code",
   "execution_count": 1,
   "id": "18da1ee2-56f0-47b0-a5e1-107fb2749925",
   "metadata": {},
   "outputs": [
    {
     "name": "stdout",
     "output_type": "stream",
     "text": [
      "🦥 Unsloth: Will patch your computer to enable 2x faster free finetuning.\n"
     ]
    },
    {
     "name": "stderr",
     "output_type": "stream",
     "text": [
      "2025-02-21 22:54:21.123570: I tensorflow/core/util/port.cc:153] oneDNN custom operations are on. You may see slightly different numerical results due to floating-point round-off errors from different computation orders. To turn them off, set the environment variable `TF_ENABLE_ONEDNN_OPTS=0`.\n",
      "2025-02-21 22:54:21.266031: E external/local_xla/xla/stream_executor/cuda/cuda_fft.cc:477] Unable to register cuFFT factory: Attempting to register factory for plugin cuFFT when one has already been registered\n",
      "WARNING: All log messages before absl::InitializeLog() is called are written to STDERR\n",
      "E0000 00:00:1740196461.318948   25049 cuda_dnn.cc:8310] Unable to register cuDNN factory: Attempting to register factory for plugin cuDNN when one has already been registered\n",
      "E0000 00:00:1740196461.339482   25049 cuda_blas.cc:1418] Unable to register cuBLAS factory: Attempting to register factory for plugin cuBLAS when one has already been registered\n",
      "2025-02-21 22:54:21.456703: I tensorflow/core/platform/cpu_feature_guard.cc:210] This TensorFlow binary is optimized to use available CPU instructions in performance-critical operations.\n",
      "To enable the following instructions: AVX2 AVX_VNNI FMA, in other operations, rebuild TensorFlow with the appropriate compiler flags.\n"
     ]
    },
    {
     "name": "stdout",
     "output_type": "stream",
     "text": [
      "🦥 Unsloth Zoo will now patch everything to make training faster!\n",
      "==((====))==  Unsloth 2025.2.15: Fast Llama patching. Transformers: 4.49.0.\n",
      "   \\\\   /|    GPU: NVIDIA GeForce RTX 4050 Laptop GPU. Max memory: 5.646 GB. Platform: Linux.\n",
      "O^O/ \\_/ \\    Torch: 2.5.1+cu124. CUDA: 8.9. CUDA Toolkit: 12.4. Triton: 3.1.0\n",
      "\\        /    Bfloat16 = TRUE. FA [Xformers = 0.0.28.post3. FA2 = False]\n",
      " \"-____-\"     Free Apache license: http://github.com/unslothai/unsloth\n",
      "Unsloth: Fast downloading is enabled - ignore downloading bars which are red colored!\n"
     ]
    }
   ],
   "source": [
    "from unsloth import FastLanguageModel\n",
    "import torch\n",
    "max_seq_length = 2048 # Choose any! We auto support RoPE Scaling internally!\n",
    "dtype = None # None for auto detection. Float16 for Tesla T4, V100, Bfloat16 for Ampere+\n",
    "load_in_4bit = True # Use 4bit quantization to reduce memory usage. Can be False.\n",
    "\n",
    "# 4bit pre quantized models we support for 4x faster downloading + no OOMs.\n",
    "fourbit_models = [\n",
    "    \"unsloth/Meta-Llama-3.1-8B-bnb-4bit\",      # Llama-3.1 15 trillion tokens model 2x faster!\n",
    "    \"unsloth/Meta-Llama-3.1-8B-Instruct-bnb-4bit\",\n",
    "    \"unsloth/Meta-Llama-3.1-70B-bnb-4bit\",\n",
    "    \"unsloth/Meta-Llama-3.1-405B-bnb-4bit\",    # We also uploaded 4bit for 405b!\n",
    "    \"unsloth/Mistral-Nemo-Base-2407-bnb-4bit\", # New Mistral 12b 2x faster!\n",
    "    \"unsloth/Mistral-Nemo-Instruct-2407-bnb-4bit\",\n",
    "    \"unsloth/mistral-7b-v0.3-bnb-4bit\",        # Mistral v3 2x faster!\n",
    "    \"unsloth/mistral-7b-instruct-v0.3-bnb-4bit\",\n",
    "    \"unsloth/Phi-3.5-mini-instruct\",           # Phi-3.5 2x faster!\n",
    "    \"unsloth/Phi-3-medium-4k-instruct\",\n",
    "    \"unsloth/gemma-2-9b-bnb-4bit\",\n",
    "    \"unsloth/gemma-2-27b-bnb-4bit\",            # Gemma 2x faster!\n",
    "] # More models at https://huggingface.co/unsloth\n",
    "\n",
    "model, tokenizer = FastLanguageModel.from_pretrained(\n",
    "    model_name = \"unsloth/Phi-3.5-mini-instruct\",\n",
    "    max_seq_length = max_seq_length,\n",
    "    dtype = dtype,\n",
    "    load_in_4bit = load_in_4bit,\n",
    "    # token = \"hf_...\", # use one if using gated models like meta-llama/Llama-2-7b-hf\n",
    ")"
   ]
  },
  {
   "cell_type": "markdown",
   "id": "d8c20733-55bd-4f86-a263-7660dab15190",
   "metadata": {},
   "source": [
    "## Phi Inference"
   ]
  },
  {
   "cell_type": "code",
   "execution_count": 3,
   "id": "7c7071df-111c-45da-909a-6fa306074a69",
   "metadata": {},
   "outputs": [],
   "source": [
    "pregunta = \"¿Cuál es el tratamiento de primera línea para la hipertensión?\""
   ]
  },
  {
   "cell_type": "code",
   "execution_count": 4,
   "id": "1867e260-5c4e-41c3-9810-866e2ada9173",
   "metadata": {},
   "outputs": [
    {
     "name": "stderr",
     "output_type": "stream",
     "text": [
      "The attention mask is not set and cannot be inferred from input because pad token is same as eos token. As a consequence, you may observe unexpected behavior. Please pass your input's `attention_mask` to obtain reliable results.\n"
     ]
    },
    {
     "data": {
      "text/plain": [
       "' El tratamiento de primera línea para la hipertensión generalmente implica cambios en el estilo de vida, como dieta, ejercicio y reducción del consumo de alcohol y tabaco.\\n\\nSi los cambios en el estilo de vida no son suficientes para controlar la presión arterial, se pueden recetar medicamentos antihipertensivos. Los medicamentos antihipertensivos más comúnmente utilizados incluyen:\\n\\n1. Inhibidores de la ECA (por ejemplo, enalapril, lisinopril)\\n2. Bloqueadores de los receptores de angiotensina II (ARBs, por ejemplo, losartán, valsartán)\\n3. Bloqueadores de los canales de calcio (por ejemplo, amlodipino, nifedipino)\\n4. Diuréticos (por ejemplo, hidroclorotiazida, metolazona)\\n\\nLa elección del medicamento y la dosis se basan en la condición clínica del paciente, la tolerabilidad y la eficacia.\\n\\nEs importante notar'"
      ]
     },
     "execution_count": 4,
     "metadata": {},
     "output_type": "execute_result"
    }
   ],
   "source": [
    "from unsloth.chat_templates import get_chat_template\n",
    "\n",
    "tokenizer = get_chat_template(\n",
    "    tokenizer,\n",
    "    chat_template = \"phi-3\", # Supports zephyr, chatml, mistral, llama, alpaca, vicuna, vicuna_old, unsloth\n",
    "    mapping = {\"role\" : \"from\", \"content\" : \"value\", \"user\" : \"human\", \"assistant\" : \"gpt\"}, # ShareGPT style\n",
    ")\n",
    "\n",
    "FastLanguageModel.for_inference(model) # Enable native 2x faster inference\n",
    "\n",
    "messages = [\n",
    "    {\"from\": \"human\", \"value\": pregunta},\n",
    "]\n",
    "inputs = tokenizer.apply_chat_template(\n",
    "    messages,\n",
    "    tokenize = True,\n",
    "    add_generation_prompt = True, # Must add for generation\n",
    "    return_tensors = \"pt\",\n",
    ").to(\"cuda\")\n",
    "\n",
    "outputs = model.generate(input_ids = inputs, max_new_tokens = 256, use_cache = True)\n",
    "respuesta = tokenizer.batch_decode(outputs, skip_special_tokens = True)[0][len(pregunta):]\n",
    "respuesta"
   ]
  },
  {
   "cell_type": "markdown",
   "id": "72d52d03-2bf2-4a98-b075-e5be63c2c842",
   "metadata": {},
   "source": [
    "## Testing with deep eval"
   ]
  },
  {
   "cell_type": "code",
   "execution_count": 5,
   "id": "06bb215e-3399-4122-9be6-8513330816de",
   "metadata": {},
   "outputs": [
    {
     "name": "stdout",
     "output_type": "stream",
     "text": [
      "API key loaded successfully!\n"
     ]
    }
   ],
   "source": [
    "import os\n",
    "api_key = os.getenv(\"OPENAI_API_KEY\")\n",
    "\n",
    "if api_key:\n",
    "    print(\"API key loaded successfully!\")\n",
    "else:\n",
    "    print(\"API key not found. Make sure it's set in your environment.\")"
   ]
  },
  {
   "cell_type": "markdown",
   "id": "e59ea554-2462-444d-88ab-9eafc67d7219",
   "metadata": {},
   "source": [
    "## PARTE 1: Generar un json (lista de diccionarios) de preguntas y respuestas esperadas utilizando la API de ChatGPT"
   ]
  },
  {
   "cell_type": "markdown",
   "id": "93b9b048-05f4-4f0f-b2c1-c8860eba9de0",
   "metadata": {},
   "source": [
    "**Creando la funcion**"
   ]
  },
  {
   "cell_type": "code",
   "execution_count": 6,
   "id": "06ab9a39-453f-4969-815f-82cd2fd8df60",
   "metadata": {},
   "outputs": [],
   "source": [
    "def generate_qa_pairs(num_pares=5):\n",
    "    prompt = (f\"Genera {num_pares} pares de preguntas y respuestas sobre medicina (para probar el conocimiento medico de otro LLM), \"\n",
    "              \"en formato JSON. La estructura debe ser un objeto con una lista de pares bajo cualquier clave, \"\n",
    "              \"donde cada objeto tenga 'input' y 'expected_output'. Ejemplo: \"\n",
    "              \"\"\"{\"qa_pairs\": [{\"input\": \"...\", \"expected_output\": \"...\"}]}\"\"\")\n",
    "    \n",
    "    client = openai.OpenAI()\n",
    "    \n",
    "    try:\n",
    "        response = client.chat.completions.create(\n",
    "            model=\"gpt-4o-mini\",\n",
    "            messages=[\n",
    "                {\"role\": \"system\", \"content\": \"Eres un medico experto. Genera solo JSON válido con lista bajo cualquier clave.\"},\n",
    "                {\"role\": \"user\", \"content\": prompt}\n",
    "            ],\n",
    "            temperature=0.5,\n",
    "            max_tokens=2000,\n",
    "            response_format={\"type\": \"json_object\"}\n",
    "        )\n",
    "\n",
    "        contenido = response.choices[0].message.content.strip()\n",
    "        contenido = contenido.replace(\"```json\", \"\").replace(\"```\", \"\").strip()\n",
    "        \n",
    "        # Parsear JSON\n",
    "        parsed_data = json.loads(contenido)\n",
    "        \n",
    "        # Buscar la primera clave que contenga una lista de objetos\n",
    "        pairs = None\n",
    "        if isinstance(parsed_data, dict):\n",
    "            for key, value in parsed_data.items():\n",
    "                if isinstance(value, list):\n",
    "                    pairs = value\n",
    "                    break\n",
    "        \n",
    "        # Validar estructura\n",
    "        if not pairs:\n",
    "            raise ValueError(\"No se encontró lista válida en el JSON\")\n",
    "            \n",
    "        if not isinstance(pairs, list):\n",
    "            raise ValueError(\"El formato raíz no contiene una lista\")\n",
    "            \n",
    "        for item in pairs:\n",
    "            if not all(key in item for key in ['input', 'expected_output']):\n",
    "                raise ValueError(\"Faltan claves requeridas en los objetos\")\n",
    "                \n",
    "        return pairs\n",
    "\n",
    "    except openai.APIError as e:\n",
    "        print(f\"🚨 Error de API: {e.status_code} - {e.message}\")\n",
    "        return None\n",
    "    except json.JSONDecodeError as e:\n",
    "        print(f\"📄 Error JSON (Posición {e.pos}): {e.msg}\")\n",
    "        print(f\"Contenido problemático:\\n{contenido[:500]}...\")\n",
    "        return None\n",
    "    except ValueError as e:\n",
    "        print(f\"🔍 Error de validación: {str(e)}\")\n",
    "        print(f\"Estructura recibida:\\n{json.dumps(parsed_data, indent=2, ensure_ascii=False)[:500]}...\")\n",
    "        return None\n",
    "    except Exception as e:\n",
    "        print(f\"⚠️ Error inesperado: {type(e).__name__} - {str(e)}\")\n",
    "        return None"
   ]
  },
  {
   "cell_type": "markdown",
   "id": "272b59cf-8ffa-4263-895b-89eddc37493b",
   "metadata": {},
   "source": [
    "# Funciones para cargar dataset, agregarle rows o guardarlo\n"
   ]
  },
  {
   "cell_type": "code",
   "execution_count": 7,
   "id": "e84e83cb-6e01-4490-a4a6-24f8ea119745",
   "metadata": {},
   "outputs": [],
   "source": [
    "dataset_path = 'data/qa_pairs.json'\n"
   ]
  },
  {
   "cell_type": "code",
   "execution_count": 8,
   "id": "f4e29eb4-a0db-4100-a5e3-d0b2bd58a86d",
   "metadata": {},
   "outputs": [],
   "source": [
    "import json\n",
    "import os\n",
    "\n",
    "def cargar_pairs_del_json(archivo=dataset_path):\n",
    "    \"\"\"Carga el dataset existente desde un archivo JSON\"\"\"\n",
    "    try:\n",
    "        if os.path.exists(archivo):\n",
    "            with open(archivo, 'r', encoding='utf-8') as f:\n",
    "                return json.load(f)\n",
    "        return []\n",
    "    except Exception as e:\n",
    "        print(f\"Error al cargar el dataset: {e}\")\n",
    "        return []\n",
    "\n",
    "def guardar_pairs_al_json(dataset, archivo = dataset_path):\n",
    "    \"\"\"Guarda el dataset completo en un archivo JSON\"\"\"\n",
    "    try:\n",
    "        with open(archivo, 'w', encoding='utf-8') as f:\n",
    "            json.dump(dataset, f, ensure_ascii=False, indent=4)\n",
    "        return True\n",
    "    except Exception as e:\n",
    "        print(f\"Error al guardar el dataset: {e}\")\n",
    "        return False\n",
    "\n",
    "def agregar_pairs_al_json(nuevos_ejemplos, archivo= dataset_path):\n",
    "    \"\"\"\n",
    "    Agrega nuevos ejemplos al dataset existente y guarda el resultado en disco.\n",
    "    \n",
    "    Parámetros:\n",
    "        nuevos_ejemplos (list): Lista de nuevos ejemplos a agregar.\n",
    "        archivo (str): Ruta del archivo JSON donde se guardará el dataset actualizado.\n",
    "    \n",
    "    Retorna:\n",
    "        bool: True si la operación fue exitosa, False en caso de error.\n",
    "    \"\"\"\n",
    "    try:\n",
    "        # 1. Validar nuevos_ejemplos\n",
    "        if not nuevos_ejemplos or not isinstance(nuevos_ejemplos, list):\n",
    "            raise ValueError(\"Los nuevos ejemplos deben ser una lista no vacía\")\n",
    "        \n",
    "        # 2. Cargar dataset existente\n",
    "        dataset_existente = cargar_dataset(archivo)\n",
    "        if not isinstance(dataset_existente, list):\n",
    "            raise TypeError(\"El dataset existente no es una lista válida\")\n",
    "        \n",
    "        # 3. Combinar datasets\n",
    "        dataset_completo = dataset_existente + nuevos_ejemplos\n",
    "        \n",
    "        # 4. Guardar en disco\n",
    "        if guardar_dataset(dataset_completo, archivo):\n",
    "            print(f\"✅ Añadidos {len(nuevos_ejemplos)} registros (Total: {len(dataset_completo)})\")\n",
    "            return True\n",
    "        \n",
    "        return False\n",
    "        \n",
    "    except ValueError as e:\n",
    "        print(f\"🔴 Error de validación: {str(e)}\")\n",
    "        return False\n",
    "    except TypeError as e:\n",
    "        print(f\"🔴 Error de tipo: {str(e)}\")\n",
    "        return False\n",
    "    except Exception as e:\n",
    "        print(f\"🔥 Error crítico: {str(e)}\")\n",
    "        return False"
   ]
  },
  {
   "cell_type": "markdown",
   "id": "d5578023-c5e2-41ba-bc2c-a7697ca92919",
   "metadata": {},
   "source": [
    "**Generar mas datos**"
   ]
  },
  {
   "cell_type": "code",
   "execution_count": 9,
   "id": "4f9ba14a-3766-4e37-92cf-6a6d4ff09334",
   "metadata": {},
   "outputs": [],
   "source": [
    "generar_mas = False\n",
    "cantidad_a_generar = 3\n",
    "\n",
    "# 1. Generar nuevos datos\n",
    "if generar_mas:\n",
    "    extra_pairs = generate_qa_pairs(cantidad_a_generar)  # Tu función original}\n",
    "    print(extra_pairs)\n"
   ]
  },
  {
   "cell_type": "markdown",
   "id": "cd09aa3e-914e-4de5-a909-5ff906b921c8",
   "metadata": {},
   "source": [
    "**Agregar los datos generados al archivo json local**    \n",
    "Generar esta separado de agregar en caso de que los casos generados no sean satisfactorios"
   ]
  },
  {
   "cell_type": "code",
   "execution_count": 10,
   "id": "3bb46b51-f90b-450f-96d2-e2bd2ebae7d4",
   "metadata": {},
   "outputs": [],
   "source": [
    "agregar_datos = False\n",
    "# 2. Agregar al dataset existente\n",
    "if agregar_datos:\n",
    "    new_total_qa_pairs = agregar_pairs_al_json(extra_pairs)\n",
    "    "
   ]
  },
  {
   "cell_type": "markdown",
   "id": "e6213694-5c22-4801-85d0-6710ab9924f3",
   "metadata": {},
   "source": [
    "Cargar el archivo json"
   ]
  },
  {
   "cell_type": "code",
   "execution_count": 12,
   "id": "6fff086c-7cb5-4115-bec0-905b2570d3a3",
   "metadata": {},
   "outputs": [
    {
     "name": "stdout",
     "output_type": "stream",
     "text": [
      "\\Archivo JSON completo (11 entradas)\n",
      "[\n",
      "  {\n",
      "    \"input\": \"¿Qué es el sistema endocrino y cuál es su función principal?\",\n",
      "    \"expected_output\": \"El sistema endocrino es una red de glándulas y órganos que producen, almacenan y secretan hormonas. Las hormonas son sustancias químicas que llevan mensajes por todo el cuerpo, desempeñando un papel clave en la regulación de una serie de funciones corporales, como el metabolismo, el crecimiento y desarrollo, el funcionamiento del sistema inmunológico y la regulación del estado de ánimo y las emociones.\"\n",
      "  },\n",
      "  {\n",
      "    \"input\": \"¿Qué es la diabetes y cómo está relacionada con el sistema endocrino?\",\n",
      "    \"expected_output\": \"La diabetes es una enfermedad crónica en la que el cuerpo no puede regular los niveles de azúcar en la sangre correctamente. Esto puede ser debido a que el páncreas no produce suficiente insulina (una hormona que ayuda a las células a absorber glucosa), como en la diabetes tipo 1, o a que el cuerpo no puede usar la insulina de manera efectiva, como en la diabetes tipo 2. Ambos tipos de diabetes son trastornos del sistema endocrino.\"\n",
      "  }\n",
      "]\n"
     ]
    }
   ],
   "source": [
    "# 3. Cargar dataset completo en cualquier momento\n",
    "qa_pairs = cargar_pairs_del_json()\n",
    "\n",
    "# 4. Verificar contenido\n",
    "if qa_pairs:\n",
    "    print(f\"\\Archivo JSON completo ({len(qa_pairs)} entradas)\")\n",
    "    print(json.dumps(qa_pairs[:2], indent=2, ensure_ascii=False))"
   ]
  },
  {
   "cell_type": "markdown",
   "id": "ba7d964a-3c11-421c-8982-1f8ec1e77c5f",
   "metadata": {},
   "source": [
    "# Ejecutar inferencia con Phi en cada entrada y guardar los resultados en un archivo local"
   ]
  },
  {
   "cell_type": "code",
   "execution_count": 15,
   "id": "264c9141-f935-4913-ad1a-60172009dde1",
   "metadata": {},
   "outputs": [],
   "source": [
    "path_to_unscored = \"data/phi_unscored.csv\"\n",
    "path_to_scored = \"data/phi_scored.csv\""
   ]
  },
  {
   "cell_type": "code",
   "execution_count": 19,
   "id": "f423c460-ab1a-41dd-ad3c-993ef21b4b98",
   "metadata": {},
   "outputs": [
    {
     "name": "stdout",
     "output_type": "stream",
     "text": [
      "Ejecutando caso: 1/11 \n",
      "Ejecutando caso: 2/11 \n",
      "Ejecutando caso: 3/11 \n",
      "Ejecutando caso: 4/11 \n",
      "Ejecutando caso: 5/11 \n",
      "Ejecutando caso: 6/11 \n",
      "Ejecutando caso: 7/11 \n",
      "Ejecutando caso: 8/11 \n",
      "Ejecutando caso: 9/11 \n",
      "Ejecutando caso: 10/11 \n",
      "Ejecutando caso: 11/11 \n",
      "Resultados guardados en 'phi_unscored.csv'\n"
     ]
    }
   ],
   "source": [
    "import pandas as pd\n",
    "from transformers import AutoModelForCausalLM, AutoTokenizer\n",
    "\n",
    "\n",
    "def inferir_modelo(model, tokenizer, texto_input):\n",
    "    # Tokeniza el input\n",
    "    inputs = tokenizer(texto_input, return_tensors=\"pt\").to(\"cuda\")\n",
    "    # Genera la respuesta (puedes ajustar max_new_tokens y otros parámetros)\n",
    "    outputs = model.generate(input_ids=inputs.input_ids, max_new_tokens=256, use_cache=True)\n",
    "    # Decodifica la respuesta\n",
    "    respuesta = tokenizer.batch_decode(outputs, skip_special_tokens=True)[0][4 + len(texto_input):]\n",
    "    return respuesta\n",
    "\n",
    "# Lista para almacenar los resultados finales\n",
    "resultados = []\n",
    "\n",
    "current_number = 1\n",
    "# Recorre cada caso en el dataset generado (asegúrate de que dataset_medico es una lista de diccionarios)\n",
    "for caso in qa_pairs:\n",
    "    print(f\"Ejecutando caso: {current_number}/{len(qa_pairs)} \")\n",
    "    current_number += 1\n",
    "    \n",
    "    pregunta = caso.get(\"input\")\n",
    "    respuesta_esperada = caso.get(\"expected_output\")\n",
    "    \n",
    "    # Ejecuta inferencia con Model A\n",
    "    phi_output = inferir_modelo(model, tokenizer, pregunta)\n",
    "    \n",
    "    # Guarda en el diccionario\n",
    "    resultados.append({\n",
    "        \"input\": pregunta,\n",
    "        \"expected_output\": respuesta_esperada,\n",
    "        \"phi_output\": phi_output,\n",
    "        # Aquí podrías agregar también el puntaje si usas una métrica (más adelante)\n",
    "    })\n",
    "\n",
    "# Convierte la lista de resultados en un DataFrame de pandas y guarda en CSV\n",
    "df = pd.DataFrame(resultados)\n",
    "df.to_csv(path_to_unscored, index=False)\n",
    "print(\"Resultados guardados en 'phi_unscored.csv'\")\n"
   ]
  },
  {
   "cell_type": "code",
   "execution_count": 17,
   "id": "1ca5f2ba-6699-448f-8a18-5714051f1029",
   "metadata": {},
   "outputs": [
    {
     "data": {
      "text/html": [
       "<div>\n",
       "<style scoped>\n",
       "    .dataframe tbody tr th:only-of-type {\n",
       "        vertical-align: middle;\n",
       "    }\n",
       "\n",
       "    .dataframe tbody tr th {\n",
       "        vertical-align: top;\n",
       "    }\n",
       "\n",
       "    .dataframe thead th {\n",
       "        text-align: right;\n",
       "    }\n",
       "</style>\n",
       "<table border=\"1\" class=\"dataframe\">\n",
       "  <thead>\n",
       "    <tr style=\"text-align: right;\">\n",
       "      <th></th>\n",
       "      <th>input</th>\n",
       "      <th>expected_output</th>\n",
       "      <th>phi_output</th>\n",
       "    </tr>\n",
       "  </thead>\n",
       "  <tbody>\n",
       "    <tr>\n",
       "      <th>0</th>\n",
       "      <td>¿Qué es el sistema endocrino y cuál es su func...</td>\n",
       "      <td>El sistema endocrino es una red de glándulas y...</td>\n",
       "      <td>\\n\\nEl sistema endocrino es una colección de g...</td>\n",
       "    </tr>\n",
       "    <tr>\n",
       "      <th>1</th>\n",
       "      <td>¿Qué es la diabetes y cómo está relacionada co...</td>\n",
       "      <td>La diabetes es una enfermedad crónica en la qu...</td>\n",
       "      <td>\\n\\nLa diabetes es una enfermedad crónica que ...</td>\n",
       "    </tr>\n",
       "    <tr>\n",
       "      <th>2</th>\n",
       "      <td>¿Qué hormonas produce la glándula tiroides y q...</td>\n",
       "      <td>La glándula tiroides produce principalmente do...</td>\n",
       "      <td>\\n\\n# Answer\\nLa glándula tiroides produce pri...</td>\n",
       "    </tr>\n",
       "    <tr>\n",
       "      <th>3</th>\n",
       "      <td>¿Cómo se diagnostica y se trata el hipotiroidi...</td>\n",
       "      <td>El hipotiroidismo se diagnostica generalmente ...</td>\n",
       "      <td>\\n\\nEl hipotiroidismo, una condición en la que...</td>\n",
       "    </tr>\n",
       "    <tr>\n",
       "      <th>4</th>\n",
       "      <td>¿Qué es el cortisol y cómo está relacionado co...</td>\n",
       "      <td>El cortisol es una hormona producida por las g...</td>\n",
       "      <td>\\n\\nEl cortisol es una hormona producida por l...</td>\n",
       "    </tr>\n",
       "    <tr>\n",
       "      <th>5</th>\n",
       "      <td>¿Cuál es la función principal de los glóbulos ...</td>\n",
       "      <td>Transportar oxígeno desde los pulmones a los t...</td>\n",
       "      <td>\\n\\n# Answer\\nLa función principal de los glób...</td>\n",
       "    </tr>\n",
       "    <tr>\n",
       "      <th>6</th>\n",
       "      <td>¿Qué es la hipertensión arterial?</td>\n",
       "      <td>Es una condición médica en la que la presión a...</td>\n",
       "      <td>\\n\\nHipertensión arterial, comúnmente conocida...</td>\n",
       "    </tr>\n",
       "    <tr>\n",
       "      <th>7</th>\n",
       "      <td>¿Cuál es el principal órgano responsable de la...</td>\n",
       "      <td>El páncreas.</td>\n",
       "      <td>\\n\\n# Answer\\nEl principal órgano responsable ...</td>\n",
       "    </tr>\n",
       "    <tr>\n",
       "      <th>8</th>\n",
       "      <td>¿Cuál es la función principal de los glóbulos ...</td>\n",
       "      <td>Transportar oxígeno desde los pulmones hacia l...</td>\n",
       "      <td>\\n\\n# Answer\\nLa función principal de los glób...</td>\n",
       "    </tr>\n",
       "    <tr>\n",
       "      <th>9</th>\n",
       "      <td>¿Qué es la hipertensión arterial?</td>\n",
       "      <td>Es una condición médica en la que la presión a...</td>\n",
       "      <td>\\n\\nHipertensión arterial, comúnmente conocida...</td>\n",
       "    </tr>\n",
       "    <tr>\n",
       "      <th>10</th>\n",
       "      <td>¿Cuál es el órgano responsable de la producció...</td>\n",
       "      <td>El páncreas.</td>\n",
       "      <td>\\n\\n# Answer\\nEl órgano responsable de la prod...</td>\n",
       "    </tr>\n",
       "  </tbody>\n",
       "</table>\n",
       "</div>"
      ],
      "text/plain": [
       "                                                input  \\\n",
       "0   ¿Qué es el sistema endocrino y cuál es su func...   \n",
       "1   ¿Qué es la diabetes y cómo está relacionada co...   \n",
       "2   ¿Qué hormonas produce la glándula tiroides y q...   \n",
       "3   ¿Cómo se diagnostica y se trata el hipotiroidi...   \n",
       "4   ¿Qué es el cortisol y cómo está relacionado co...   \n",
       "5   ¿Cuál es la función principal de los glóbulos ...   \n",
       "6                   ¿Qué es la hipertensión arterial?   \n",
       "7   ¿Cuál es el principal órgano responsable de la...   \n",
       "8   ¿Cuál es la función principal de los glóbulos ...   \n",
       "9                   ¿Qué es la hipertensión arterial?   \n",
       "10  ¿Cuál es el órgano responsable de la producció...   \n",
       "\n",
       "                                      expected_output  \\\n",
       "0   El sistema endocrino es una red de glándulas y...   \n",
       "1   La diabetes es una enfermedad crónica en la qu...   \n",
       "2   La glándula tiroides produce principalmente do...   \n",
       "3   El hipotiroidismo se diagnostica generalmente ...   \n",
       "4   El cortisol es una hormona producida por las g...   \n",
       "5   Transportar oxígeno desde los pulmones a los t...   \n",
       "6   Es una condición médica en la que la presión a...   \n",
       "7                                        El páncreas.   \n",
       "8   Transportar oxígeno desde los pulmones hacia l...   \n",
       "9   Es una condición médica en la que la presión a...   \n",
       "10                                       El páncreas.   \n",
       "\n",
       "                                           phi_output  \n",
       "0   \\n\\nEl sistema endocrino es una colección de g...  \n",
       "1   \\n\\nLa diabetes es una enfermedad crónica que ...  \n",
       "2   \\n\\n# Answer\\nLa glándula tiroides produce pri...  \n",
       "3   \\n\\nEl hipotiroidismo, una condición en la que...  \n",
       "4   \\n\\nEl cortisol es una hormona producida por l...  \n",
       "5   \\n\\n# Answer\\nLa función principal de los glób...  \n",
       "6   \\n\\nHipertensión arterial, comúnmente conocida...  \n",
       "7   \\n\\n# Answer\\nEl principal órgano responsable ...  \n",
       "8   \\n\\n# Answer\\nLa función principal de los glób...  \n",
       "9   \\n\\nHipertensión arterial, comúnmente conocida...  \n",
       "10  \\n\\n# Answer\\nEl órgano responsable de la prod...  "
      ]
     },
     "execution_count": 17,
     "metadata": {},
     "output_type": "execute_result"
    }
   ],
   "source": [
    "df\n",
    "#df[\"phi_output\"][1]"
   ]
  },
  {
   "cell_type": "markdown",
   "id": "60667f3f-76ac-4840-b353-3a52eb151149",
   "metadata": {},
   "source": [
    "## Creating the evaluation metric (prompt)"
   ]
  },
  {
   "cell_type": "code",
   "execution_count": 18,
   "id": "05e62307-f931-4f29-9583-60da5d832251",
   "metadata": {},
   "outputs": [],
   "source": [
    "from deepeval.metrics import GEval\n",
    "from deepeval.test_case import LLMTestCaseParams\n",
    "\n",
    "medical_correctness_metric = GEval(\n",
    "    name=\"MedicalCorrectness\",\n",
    "    criteria=\"Determinar si la respuesta médica proporcionada es correcta, clínica y segura comparándola con la respuesta esperada y estándares médicos.\",\n",
    "    evaluation_steps=[\n",
    "        \"Verificar que los hechos y datos médicos en la 'actual output' sean correctos según la 'expected output' y conocimiento médico estándar.\",\n",
    "        \"Evaluar si se utiliza la terminología médica apropiada y se siguen guías clínicas reconocidas.\",\n",
    "        \"Penalizar la omisión de detalles importantes que puedan afectar la seguridad o la precisión clínica.\",\n",
    "        \"Permitir ligeras diferencias en la redacción siempre y cuando el contenido clínico sea correcto y seguro.\"\n",
    "    ],\n",
    "    evaluation_params=[\n",
    "        LLMTestCaseParams.INPUT, \n",
    "        LLMTestCaseParams.ACTUAL_OUTPUT, \n",
    "        LLMTestCaseParams.EXPECTED_OUTPUT\n",
    "    ],\n",
    "    threshold=0.7,  # Este umbral se utiliza para determinar un \"pass\" o \"fail\", pero el score en sí es un valor continuo.\n",
    "    model=\"gpt-4o-mini\"\n",
    ")"
   ]
  },
  {
   "cell_type": "code",
   "execution_count": 27,
   "id": "9b99edf2-feda-4bc5-9379-fb542eb5cd11",
   "metadata": {},
   "outputs": [
    {
     "data": {
      "application/vnd.jupyter.widget-view+json": {
       "model_id": "9b5604755f794ffc9697023a1cd949c4",
       "version_major": 2,
       "version_minor": 0
      },
      "text/plain": [
       "Output()"
      ]
     },
     "metadata": {},
     "output_type": "display_data"
    },
    {
     "data": {
      "text/html": [
       "<pre style=\"white-space:pre;overflow-x:auto;line-height:normal;font-family:Menlo,'DejaVu Sans Mono',consolas,'Courier New',monospace\">Event loop is already running. Applying nest_asyncio patch to allow async execution...\n",
       "</pre>\n"
      ],
      "text/plain": [
       "Event loop is already running. Applying nest_asyncio patch to allow async execution...\n"
      ]
     },
     "metadata": {},
     "output_type": "display_data"
    },
    {
     "data": {
      "text/html": [
       "<pre style=\"white-space:pre;overflow-x:auto;line-height:normal;font-family:Menlo,'DejaVu Sans Mono',consolas,'Courier New',monospace\"></pre>\n"
      ],
      "text/plain": []
     },
     "metadata": {},
     "output_type": "display_data"
    },
    {
     "data": {
      "application/vnd.jupyter.widget-view+json": {
       "model_id": "491b9fddaa16453e9e1e2507f52b1ed1",
       "version_major": 2,
       "version_minor": 0
      },
      "text/plain": [
       "Output()"
      ]
     },
     "metadata": {},
     "output_type": "display_data"
    },
    {
     "data": {
      "text/html": [
       "<pre style=\"white-space:pre;overflow-x:auto;line-height:normal;font-family:Menlo,'DejaVu Sans Mono',consolas,'Courier New',monospace\">Event loop is already running. Applying nest_asyncio patch to allow async execution...\n",
       "</pre>\n"
      ],
      "text/plain": [
       "Event loop is already running. Applying nest_asyncio patch to allow async execution...\n"
      ]
     },
     "metadata": {},
     "output_type": "display_data"
    },
    {
     "data": {
      "text/html": [
       "<pre style=\"white-space:pre;overflow-x:auto;line-height:normal;font-family:Menlo,'DejaVu Sans Mono',consolas,'Courier New',monospace\"></pre>\n"
      ],
      "text/plain": []
     },
     "metadata": {},
     "output_type": "display_data"
    },
    {
     "data": {
      "application/vnd.jupyter.widget-view+json": {
       "model_id": "ae89163b15bc4bdd80cbe41d22d6feae",
       "version_major": 2,
       "version_minor": 0
      },
      "text/plain": [
       "Output()"
      ]
     },
     "metadata": {},
     "output_type": "display_data"
    },
    {
     "data": {
      "text/html": [
       "<pre style=\"white-space:pre;overflow-x:auto;line-height:normal;font-family:Menlo,'DejaVu Sans Mono',consolas,'Courier New',monospace\">Event loop is already running. Applying nest_asyncio patch to allow async execution...\n",
       "</pre>\n"
      ],
      "text/plain": [
       "Event loop is already running. Applying nest_asyncio patch to allow async execution...\n"
      ]
     },
     "metadata": {},
     "output_type": "display_data"
    },
    {
     "data": {
      "text/html": [
       "<pre style=\"white-space:pre;overflow-x:auto;line-height:normal;font-family:Menlo,'DejaVu Sans Mono',consolas,'Courier New',monospace\"></pre>\n"
      ],
      "text/plain": []
     },
     "metadata": {},
     "output_type": "display_data"
    },
    {
     "data": {
      "application/vnd.jupyter.widget-view+json": {
       "model_id": "8a6a1722033c48ada2d58e769eecfd16",
       "version_major": 2,
       "version_minor": 0
      },
      "text/plain": [
       "Output()"
      ]
     },
     "metadata": {},
     "output_type": "display_data"
    },
    {
     "data": {
      "text/html": [
       "<pre style=\"white-space:pre;overflow-x:auto;line-height:normal;font-family:Menlo,'DejaVu Sans Mono',consolas,'Courier New',monospace\">Event loop is already running. Applying nest_asyncio patch to allow async execution...\n",
       "</pre>\n"
      ],
      "text/plain": [
       "Event loop is already running. Applying nest_asyncio patch to allow async execution...\n"
      ]
     },
     "metadata": {},
     "output_type": "display_data"
    },
    {
     "data": {
      "text/html": [
       "<pre style=\"white-space:pre;overflow-x:auto;line-height:normal;font-family:Menlo,'DejaVu Sans Mono',consolas,'Courier New',monospace\"></pre>\n"
      ],
      "text/plain": []
     },
     "metadata": {},
     "output_type": "display_data"
    },
    {
     "data": {
      "application/vnd.jupyter.widget-view+json": {
       "model_id": "21ca6444147d4985b7b36ec751765f7c",
       "version_major": 2,
       "version_minor": 0
      },
      "text/plain": [
       "Output()"
      ]
     },
     "metadata": {},
     "output_type": "display_data"
    },
    {
     "data": {
      "text/html": [
       "<pre style=\"white-space:pre;overflow-x:auto;line-height:normal;font-family:Menlo,'DejaVu Sans Mono',consolas,'Courier New',monospace\">Event loop is already running. Applying nest_asyncio patch to allow async execution...\n",
       "</pre>\n"
      ],
      "text/plain": [
       "Event loop is already running. Applying nest_asyncio patch to allow async execution...\n"
      ]
     },
     "metadata": {},
     "output_type": "display_data"
    },
    {
     "data": {
      "text/html": [
       "<pre style=\"white-space:pre;overflow-x:auto;line-height:normal;font-family:Menlo,'DejaVu Sans Mono',consolas,'Courier New',monospace\"></pre>\n"
      ],
      "text/plain": []
     },
     "metadata": {},
     "output_type": "display_data"
    },
    {
     "name": "stdout",
     "output_type": "stream",
     "text": [
      "Evaluation completed. First 5 rows:\n",
      "                                               input  \\\n",
      "0  ¿Qué es el sistema endocrino y cuál es su func...   \n",
      "1  ¿Qué es la diabetes y cómo está relacionada co...   \n",
      "2  ¿Qué hormonas produce la glándula tiroides y q...   \n",
      "3  ¿Cómo se diagnostica y se trata el hipotiroidi...   \n",
      "4  ¿Qué es el cortisol y cómo está relacionado co...   \n",
      "\n",
      "                                     expected_output  \\\n",
      "0  El sistema endocrino es una red de glándulas y...   \n",
      "1  La diabetes es una enfermedad crónica en la qu...   \n",
      "2  La glándula tiroides produce principalmente do...   \n",
      "3  El hipotiroidismo se diagnostica generalmente ...   \n",
      "4  El cortisol es una hormona producida por las g...   \n",
      "\n",
      "                                          phi_output phi_score result  \n",
      "0  \\n\\nEl sistema endocrino es una colección de g...  0.734087   PASÓ  \n",
      "1  \\n\\nLa diabetes es una enfermedad crónica que ...  0.622945  FALLÓ  \n",
      "2  \\n\\n# Answer\\nLa glándula tiroides produce pri...  0.193507  FALLÓ  \n",
      "3  \\n\\nEl hipotiroidismo, una condición en la que...  0.633613  FALLÓ  \n",
      "4  \\n\\nEl cortisol es una hormona producida por l...      0.65  FALLÓ  \n"
     ]
    }
   ],
   "source": [
    "import pandas as pd\n",
    "from deepeval.test_case import LLMTestCase\n",
    "\n",
    "\n",
    "# Load your dataset\n",
    "df = pd.read_csv('path_to_unscored.csv')  # Replace with your actual dataset path\n",
    "\n",
    "# Create columns to store results\n",
    "df['phi_score'] = None\n",
    "df['result'] = None\n",
    "\n",
    "# Iterate through each row\n",
    "for index, row in df.iterrows():\n",
    "    try:\n",
    "        # Create test case from current row\n",
    "        test_case = LLMTestCase(\n",
    "            input=row['input'],\n",
    "            actual_output=row['phi_output'],\n",
    "            expected_output=row['expected_output']\n",
    "        )\n",
    "        \n",
    "        # Measure medical correctness\n",
    "        medical_correctness_metric.measure(test_case)\n",
    "        \n",
    "        # Store results\n",
    "        df.at[index, 'phi_score'] = medical_correctness_metric.score\n",
    "        df.at[index, 'result'] = (\n",
    "            \"PASÓ\" if medical_correctness_metric.score >= medical_correctness_metric.threshold \n",
    "            else \"FALLÓ\"\n",
    "        )\n",
    "        \n",
    "    except Exception as e:\n",
    "        print(f\"Error processing row {index}: {e}\")\n",
    "        df.at[index, 'result'] = \"ERROR\"\n",
    "\n",
    "# Save updated dataset (optional)\n",
    "df.to_csv('phi_scored.csv', index=False)\n",
    "\n",
    "print(\"Evaluation completed. First 5 rows:\")\n",
    "print(df.head())"
   ]
  },
  {
   "cell_type": "code",
   "execution_count": 28,
   "id": "685c208b-e1b5-4fc7-bf2f-fc23e4ae0424",
   "metadata": {},
   "outputs": [
    {
     "data": {
      "text/html": [
       "<div>\n",
       "<style scoped>\n",
       "    .dataframe tbody tr th:only-of-type {\n",
       "        vertical-align: middle;\n",
       "    }\n",
       "\n",
       "    .dataframe tbody tr th {\n",
       "        vertical-align: top;\n",
       "    }\n",
       "\n",
       "    .dataframe thead th {\n",
       "        text-align: right;\n",
       "    }\n",
       "</style>\n",
       "<table border=\"1\" class=\"dataframe\">\n",
       "  <thead>\n",
       "    <tr style=\"text-align: right;\">\n",
       "      <th></th>\n",
       "      <th>input</th>\n",
       "      <th>expected_output</th>\n",
       "      <th>phi_output</th>\n",
       "      <th>phi_score</th>\n",
       "      <th>result</th>\n",
       "    </tr>\n",
       "  </thead>\n",
       "  <tbody>\n",
       "    <tr>\n",
       "      <th>0</th>\n",
       "      <td>¿Qué es el sistema endocrino y cuál es su func...</td>\n",
       "      <td>El sistema endocrino es una red de glándulas y...</td>\n",
       "      <td>\\n\\nEl sistema endocrino es una colección de g...</td>\n",
       "      <td>0.734087</td>\n",
       "      <td>PASÓ</td>\n",
       "    </tr>\n",
       "    <tr>\n",
       "      <th>1</th>\n",
       "      <td>¿Qué es la diabetes y cómo está relacionada co...</td>\n",
       "      <td>La diabetes es una enfermedad crónica en la qu...</td>\n",
       "      <td>\\n\\nLa diabetes es una enfermedad crónica que ...</td>\n",
       "      <td>0.622945</td>\n",
       "      <td>FALLÓ</td>\n",
       "    </tr>\n",
       "    <tr>\n",
       "      <th>2</th>\n",
       "      <td>¿Qué hormonas produce la glándula tiroides y q...</td>\n",
       "      <td>La glándula tiroides produce principalmente do...</td>\n",
       "      <td>\\n\\n# Answer\\nLa glándula tiroides produce pri...</td>\n",
       "      <td>0.193507</td>\n",
       "      <td>FALLÓ</td>\n",
       "    </tr>\n",
       "    <tr>\n",
       "      <th>3</th>\n",
       "      <td>¿Cómo se diagnostica y se trata el hipotiroidi...</td>\n",
       "      <td>El hipotiroidismo se diagnostica generalmente ...</td>\n",
       "      <td>\\n\\nEl hipotiroidismo, una condición en la que...</td>\n",
       "      <td>0.633613</td>\n",
       "      <td>FALLÓ</td>\n",
       "    </tr>\n",
       "    <tr>\n",
       "      <th>4</th>\n",
       "      <td>¿Qué es el cortisol y cómo está relacionado co...</td>\n",
       "      <td>El cortisol es una hormona producida por las g...</td>\n",
       "      <td>\\n\\nEl cortisol es una hormona producida por l...</td>\n",
       "      <td>0.65</td>\n",
       "      <td>FALLÓ</td>\n",
       "    </tr>\n",
       "  </tbody>\n",
       "</table>\n",
       "</div>"
      ],
      "text/plain": [
       "                                               input  \\\n",
       "0  ¿Qué es el sistema endocrino y cuál es su func...   \n",
       "1  ¿Qué es la diabetes y cómo está relacionada co...   \n",
       "2  ¿Qué hormonas produce la glándula tiroides y q...   \n",
       "3  ¿Cómo se diagnostica y se trata el hipotiroidi...   \n",
       "4  ¿Qué es el cortisol y cómo está relacionado co...   \n",
       "\n",
       "                                     expected_output  \\\n",
       "0  El sistema endocrino es una red de glándulas y...   \n",
       "1  La diabetes es una enfermedad crónica en la qu...   \n",
       "2  La glándula tiroides produce principalmente do...   \n",
       "3  El hipotiroidismo se diagnostica generalmente ...   \n",
       "4  El cortisol es una hormona producida por las g...   \n",
       "\n",
       "                                          phi_output phi_score result  \n",
       "0  \\n\\nEl sistema endocrino es una colección de g...  0.734087   PASÓ  \n",
       "1  \\n\\nLa diabetes es una enfermedad crónica que ...  0.622945  FALLÓ  \n",
       "2  \\n\\n# Answer\\nLa glándula tiroides produce pri...  0.193507  FALLÓ  \n",
       "3  \\n\\nEl hipotiroidismo, una condición en la que...  0.633613  FALLÓ  \n",
       "4  \\n\\nEl cortisol es una hormona producida por l...      0.65  FALLÓ  "
      ]
     },
     "execution_count": 28,
     "metadata": {},
     "output_type": "execute_result"
    }
   ],
   "source": [
    "df"
   ]
  },
  {
   "cell_type": "code",
   "execution_count": 39,
   "id": "def14641-b765-4592-994d-8aeb094c9a11",
   "metadata": {},
   "outputs": [
    {
     "data": {
      "text/plain": [
       "input                                                                                                                                                                                                                                                                                                                                                                                                                                                                                                                                                                                                                                                                                                                                                            ¿Qué hormonas produce la glándula tiroides y qué funciones desempeñan?\n",
       "expected_output                                                                                                                                                                                                                                                                                                                                           La glándula tiroides produce principalmente dos hormonas: triyodotironina (T3) y tiroxina (T4). Estas hormonas juegan un papel crucial en el metabolismo, ayudando a regular la velocidad a la que el cuerpo usa la energía. También contribuyen al crecimiento y desarrollo durante la infancia. El desequilibrio en la producción de estas hormonas puede llevar a condiciones como el hipotiroidismo (producción insuficiente) o el hipertiroidismo (producción excesiva).\n",
       "phi_output         \\n\\n# Answer\\nLa glándula tiroides produce principalmente dos hormonas principales: la hormona estimulante del crecimiento (GH) y la hormona estimulante del tiroides (TSH).\\n\\n1. Hormona Estimulante del Crecimiento (GH): Esta hormona es producida por las células somatotropos en la glándula pituitaria. El GH juega un papel crucial en el crecimiento, desarrollo y reparación de tejidos. También ayuda a regular el metabolismo de carbohidratos, proteínas y grasas.\\n\\n2. Hormona Estimulante del Tiroides (TSH): TSH es producida por las células tirotropos en la glándula pituitaria. TSH regula la función de la glándula tiroides, estimulando la producción y liberación de hormonas tiroideas (T3 y T4). Estas hormonas tiroideas desempeñan un papel crucial en el metabolismo, la regulación de\n",
       "phi_score                                                                                                                                                                                                                                                                                                                                                                                                                                                                                                                                                                                                                                                                                                                                                                                                                      0.193507\n",
       "result                                                                                                                                                                                                                                                                                                                                                                                                                                                                                                                                                                                                                                                                                                                                                                                                                            FALLÓ\n",
       "Name: 2, dtype: object"
      ]
     },
     "execution_count": 39,
     "metadata": {},
     "output_type": "execute_result"
    }
   ],
   "source": [
    "pd.set_option('display.max_colwidth', 1000)\n",
    "df.iloc[2]"
   ]
  },
  {
   "cell_type": "code",
   "execution_count": 32,
   "id": "4d263aaf-509f-4424-a530-3295b9b56fdb",
   "metadata": {},
   "outputs": [
    {
     "data": {
      "text/plain": [
       "0.566830562630641"
      ]
     },
     "execution_count": 32,
     "metadata": {},
     "output_type": "execute_result"
    }
   ],
   "source": [
    "phi_average_score = df[\"phi_score\"].mean()\n",
    "phi_average_score"
   ]
  },
  {
   "cell_type": "code",
   "execution_count": null,
   "id": "7e4316c2-ab91-415b-b933-115c187b4436",
   "metadata": {},
   "outputs": [],
   "source": []
  }
 ],
 "metadata": {
  "kernelspec": {
   "display_name": "Python 3 (ipykernel)",
   "language": "python",
   "name": "python3"
  },
  "language_info": {
   "codemirror_mode": {
    "name": "ipython",
    "version": 3
   },
   "file_extension": ".py",
   "mimetype": "text/x-python",
   "name": "python",
   "nbconvert_exporter": "python",
   "pygments_lexer": "ipython3",
   "version": "3.10.12"
  }
 },
 "nbformat": 4,
 "nbformat_minor": 5
}
