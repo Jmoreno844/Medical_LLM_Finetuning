{
 "cells": [
  {
   "cell_type": "code",
   "execution_count": 1,
   "id": "18da1ee2-56f0-47b0-a5e1-107fb2749925",
   "metadata": {},
   "outputs": [
    {
     "name": "stdout",
     "output_type": "stream",
     "text": [
      "🦥 Unsloth: Will patch your computer to enable 2x faster free finetuning.\n"
     ]
    },
    {
     "name": "stderr",
     "output_type": "stream",
     "text": [
      "2025-02-21 21:41:25.406287: I tensorflow/core/util/port.cc:153] oneDNN custom operations are on. You may see slightly different numerical results due to floating-point round-off errors from different computation orders. To turn them off, set the environment variable `TF_ENABLE_ONEDNN_OPTS=0`.\n",
      "2025-02-21 21:41:25.417013: E external/local_xla/xla/stream_executor/cuda/cuda_fft.cc:477] Unable to register cuFFT factory: Attempting to register factory for plugin cuFFT when one has already been registered\n",
      "WARNING: All log messages before absl::InitializeLog() is called are written to STDERR\n",
      "E0000 00:00:1740192085.427957   19877 cuda_dnn.cc:8310] Unable to register cuDNN factory: Attempting to register factory for plugin cuDNN when one has already been registered\n",
      "E0000 00:00:1740192085.430911   19877 cuda_blas.cc:1418] Unable to register cuBLAS factory: Attempting to register factory for plugin cuBLAS when one has already been registered\n",
      "2025-02-21 21:41:25.441618: I tensorflow/core/platform/cpu_feature_guard.cc:210] This TensorFlow binary is optimized to use available CPU instructions in performance-critical operations.\n",
      "To enable the following instructions: AVX2 AVX_VNNI FMA, in other operations, rebuild TensorFlow with the appropriate compiler flags.\n"
     ]
    },
    {
     "name": "stdout",
     "output_type": "stream",
     "text": [
      "🦥 Unsloth Zoo will now patch everything to make training faster!\n",
      "==((====))==  Unsloth 2025.2.15: Fast Llama patching. Transformers: 4.49.0.\n",
      "   \\\\   /|    GPU: NVIDIA GeForce RTX 4050 Laptop GPU. Max memory: 5.646 GB. Platform: Linux.\n",
      "O^O/ \\_/ \\    Torch: 2.5.1+cu124. CUDA: 8.9. CUDA Toolkit: 12.4. Triton: 3.1.0\n",
      "\\        /    Bfloat16 = TRUE. FA [Xformers = 0.0.28.post3. FA2 = False]\n",
      " \"-____-\"     Free Apache license: http://github.com/unslothai/unsloth\n",
      "Unsloth: Fast downloading is enabled - ignore downloading bars which are red colored!\n"
     ]
    },
    {
     "data": {
      "application/vnd.jupyter.widget-view+json": {
       "model_id": "2701114d26c041f5b8cb6dfce231b055",
       "version_major": 2,
       "version_minor": 0
      },
      "text/plain": [
       "model.safetensors:   0%|          | 0.00/2.24G [00:00<?, ?B/s]"
      ]
     },
     "metadata": {},
     "output_type": "display_data"
    },
    {
     "data": {
      "application/vnd.jupyter.widget-view+json": {
       "model_id": "fc32581c4f3240b293f9ade714e175a0",
       "version_major": 2,
       "version_minor": 0
      },
      "text/plain": [
       "generation_config.json:   0%|          | 0.00/234 [00:00<?, ?B/s]"
      ]
     },
     "metadata": {},
     "output_type": "display_data"
    },
    {
     "data": {
      "application/vnd.jupyter.widget-view+json": {
       "model_id": "32ae77d4586544119f3ee69c61004f7c",
       "version_major": 2,
       "version_minor": 0
      },
      "text/plain": [
       "tokenizer_config.json:   0%|          | 0.00/54.7k [00:00<?, ?B/s]"
      ]
     },
     "metadata": {},
     "output_type": "display_data"
    },
    {
     "data": {
      "application/vnd.jupyter.widget-view+json": {
       "model_id": "0b3f757d849d4e119f7a99d674e466f0",
       "version_major": 2,
       "version_minor": 0
      },
      "text/plain": [
       "tokenizer.json:   0%|          | 0.00/17.2M [00:00<?, ?B/s]"
      ]
     },
     "metadata": {},
     "output_type": "display_data"
    },
    {
     "data": {
      "application/vnd.jupyter.widget-view+json": {
       "model_id": "9981c29f52a04635bb5f06a3dfad17a9",
       "version_major": 2,
       "version_minor": 0
      },
      "text/plain": [
       "special_tokens_map.json:   0%|          | 0.00/454 [00:00<?, ?B/s]"
      ]
     },
     "metadata": {},
     "output_type": "display_data"
    }
   ],
   "source": [
    "from unsloth import FastLanguageModel\n",
    "import torch\n",
    "max_seq_length = 2048 # Choose any! We auto support RoPE Scaling internally!\n",
    "dtype = None # None for auto detection. Float16 for Tesla T4, V100, Bfloat16 for Ampere+\n",
    "load_in_4bit = True # Use 4bit quantization to reduce memory usage. Can be False.\n",
    "\n",
    "# 4bit pre quantized models we support for 4x faster downloading + no OOMs.\n",
    "fourbit_models = [\n",
    "    \"unsloth/Meta-Llama-3.1-8B-bnb-4bit\",      # Llama-3.1 15 trillion tokens model 2x faster!\n",
    "    \"unsloth/Meta-Llama-3.1-8B-Instruct-bnb-4bit\",\n",
    "    \"unsloth/Meta-Llama-3.1-70B-bnb-4bit\",\n",
    "    \"unsloth/Meta-Llama-3.1-405B-bnb-4bit\",    # We also uploaded 4bit for 405b!\n",
    "    \"unsloth/Mistral-Nemo-Base-2407-bnb-4bit\", # New Mistral 12b 2x faster!\n",
    "    \"unsloth/Mistral-Nemo-Instruct-2407-bnb-4bit\",\n",
    "    \"unsloth/mistral-7b-v0.3-bnb-4bit\",        # Mistral v3 2x faster!\n",
    "    \"unsloth/mistral-7b-instruct-v0.3-bnb-4bit\",\n",
    "    \"unsloth/Phi-3.5-mini-instruct\",           # Phi-3.5 2x faster!\n",
    "    \"unsloth/Phi-3-medium-4k-instruct\",\n",
    "    \"unsloth/gemma-2-9b-bnb-4bit\",\n",
    "    \"unsloth/gemma-2-27b-bnb-4bit\",            # Gemma 2x faster!\n",
    "] # More models at https://huggingface.co/unsloth\n",
    "\n",
    "model_name = \"unsloth/Llama-3.2-3B-Instruct-bnb-4bit\"\n",
    "\n",
    "model, tokenizer = FastLanguageModel.from_pretrained(\n",
    "    model_name = model_name,\n",
    "    max_seq_length = max_seq_length,\n",
    "    dtype = dtype,\n",
    "    load_in_4bit = load_in_4bit,\n",
    "    # token = \"hf_...\", # use one if using gated models like meta-llama/Llama-2-7b-hf\n",
    ")"
   ]
  },
  {
   "cell_type": "markdown",
   "id": "d8c20733-55bd-4f86-a263-7660dab15190",
   "metadata": {},
   "source": [
    "## Phi Inference"
   ]
  },
  {
   "cell_type": "code",
   "execution_count": 2,
   "id": "7c7071df-111c-45da-909a-6fa306074a69",
   "metadata": {},
   "outputs": [],
   "source": [
    "pregunta = \"¿Cuál es el tratamiento de primera línea para la hipertensión?\""
   ]
  },
  {
   "cell_type": "code",
   "execution_count": 8,
   "id": "1867e260-5c4e-41c3-9810-866e2ada9173",
   "metadata": {},
   "outputs": [
    {
     "data": {
      "text/plain": [
       "'t\\n\\nEl tratamiento de primera línea para la hipertensión se basa en la reducción de la presión arterial a través de cambios en el estilo de vida y medicamentos.\\n\\n**Cambios en el estilo de vida:**\\n\\n1. **Reducción del consumo de sal**: Limitar el consumo de sal a menos de 5 gramos al día.\\n2. **Aumento de la actividad física**: Realizar al menos 150 minutos de actividad física moderada a la semana.\\n3. **Perda de peso**: Si tienes sobrepeso o obesidad, perder peso puede ayudar a reducir la presión arterial.\\n4. **Dietas saludables**: Consumir una dieta rica en frutas, verduras, granos integrales y proteínas magras.\\n5. **Reducción del consumo de alcohol**: Limitar el consumo de alcohol a menos de 1 bebida al día para hombres y menos de 1/2 bebida al día para mujeres.\\n\\n**Medicamentos:**\\n\\n1. **Diuréticos**: Medicamentos que ayudan a eliminar el exceso de líquido del cuerpo y reducir la presión arterial.\\n2. **Inhibidores de la ECA'"
      ]
     },
     "execution_count": 8,
     "metadata": {},
     "output_type": "execute_result"
    }
   ],
   "source": [
    "from unsloth.chat_templates import get_chat_template\n",
    "\n",
    "tokenizer = get_chat_template(\n",
    "    tokenizer,\n",
    "    chat_template = \"llama-3.1\", # Supports zephyr, chatml, mistral, llama, alpaca, vicuna, vicuna_old, unsloth\n",
    "    mapping = {\"role\" : \"from\", \"content\" : \"value\", \"user\" : \"human\", \"assistant\" : \"gpt\"}, # ShareGPT style\n",
    ")\n",
    "\n",
    "FastLanguageModel.for_inference(model) # Enable native 2x faster inference\n",
    "\n",
    "messages = [\n",
    "    {\"from\": \"human\", \"value\": pregunta},\n",
    "]\n",
    "inputs = tokenizer.apply_chat_template(\n",
    "    messages,\n",
    "    tokenize = True,\n",
    "    add_generation_prompt = True, # Must add for generation\n",
    "    return_tensors = \"pt\",\n",
    ").to(\"cuda\")\n",
    "\n",
    "outputs = model.generate(input_ids = inputs, max_new_tokens = 256, use_cache = True)\n",
    "respuesta = tokenizer.batch_decode(outputs, skip_special_tokens = True)[0][87 + len(pregunta):]\n",
    "respuesta"
   ]
  },
  {
   "cell_type": "markdown",
   "id": "72d52d03-2bf2-4a98-b075-e5be63c2c842",
   "metadata": {},
   "source": [
    "## Testing with deep eval"
   ]
  },
  {
   "cell_type": "code",
   "execution_count": 5,
   "id": "06bb215e-3399-4122-9be6-8513330816de",
   "metadata": {},
   "outputs": [
    {
     "name": "stdout",
     "output_type": "stream",
     "text": [
      "API key loaded successfully!\n"
     ]
    }
   ],
   "source": [
    "import os\n",
    "api_key = os.getenv(\"OPENAI_API_KEY\")\n",
    "\n",
    "if api_key:\n",
    "    print(\"API key loaded successfully!\")\n",
    "else:\n",
    "    print(\"API key not found. Make sure it's set in your environment.\")"
   ]
  },
  {
   "cell_type": "markdown",
   "id": "e59ea554-2462-444d-88ab-9eafc67d7219",
   "metadata": {},
   "source": [
    "## PARTE 1: Generar un dataset (lista de diccionarios) de preguntas y respuestas esperadas utilizando la API de ChatGPT"
   ]
  },
  {
   "cell_type": "markdown",
   "id": "93b9b048-05f4-4f0f-b2c1-c8860eba9de0",
   "metadata": {},
   "source": [
    "**Creando la funcion**"
   ]
  },
  {
   "cell_type": "code",
   "execution_count": 6,
   "id": "06ab9a39-453f-4969-815f-82cd2fd8df60",
   "metadata": {},
   "outputs": [],
   "source": [
    "import openai\n",
    "import json\n",
    "\n",
    "def generar_dataset_medico(num_pares=5):\n",
    "    prompt = (f\"Genera {num_pares} pares de preguntas y respuestas sobre medicina, enfocadas en el sistema hormonal. \"\n",
    "              \"La respuesta debe estar basada en conocimientos clínicos actualizados. \"\n",
    "              \"Devuelve la salida en formato JSON, como una lista de objetos, donde cada objeto tenga dos claves: \"\n",
    "              \"'input' y 'expected_output'.\")\n",
    "\n",
    "    # Instantiate the OpenAI client\n",
    "    client = openai.OpenAI()\n",
    "\n",
    "    try:\n",
    "        response = client.chat.completions.create(\n",
    "            model=\"gpt-4\",  # Adjust the model as needed\n",
    "            messages=[\n",
    "                {\"role\": \"system\", \"content\": \"Eres un experto en medicina.\"},\n",
    "                {\"role\": \"user\", \"content\": prompt}\n",
    "            ],\n",
    "            temperature=0.7,\n",
    "            max_tokens=1000,\n",
    "        )\n",
    "\n",
    "        # Extract the content from the response\n",
    "        contenido = response.choices[0].message.content.strip()\n",
    "\n",
    "        # Parse the JSON content\n",
    "        dataset = json.loads(contenido)\n",
    "        return dataset\n",
    "\n",
    "    except json.JSONDecodeError as e:\n",
    "        print(\"Error al decodificar JSON:\", e)\n",
    "        print(\"Contenido recibido:\", contenido)\n",
    "        return None\n",
    "    except Exception as e:\n",
    "        print(\"Ha ocurrido un error:\", e)\n",
    "        return None\n"
   ]
  },
  {
   "cell_type": "markdown",
   "id": "272b59cf-8ffa-4263-895b-89eddc37493b",
   "metadata": {},
   "source": [
    "**Either run the function or load the dataset saved on the device**\n"
   ]
  },
  {
   "cell_type": "code",
   "execution_count": 10,
   "id": "f4e29eb4-a0db-4100-a5e3-d0b2bd58a86d",
   "metadata": {},
   "outputs": [
    {
     "name": "stdout",
     "output_type": "stream",
     "text": [
      "Dataset cargado desde 'dataset.json'\n",
      "Dataset rows:  5\n",
      "Ejemplo: [{'input': '¿Qué es el sistema endocrino y cuál es su función principal?', 'expected_output': 'El sistema endocrino es una red de glándulas y órganos que producen, almacenan y secretan hormonas. Las hormonas son sustancias químicas que llevan mensajes por todo el cuerpo, desempeñando un papel clave en la regulación de una serie de funciones corporales, como el metabolismo, el crecimiento y desarrollo, el funcionamiento del sistema inmunológico y la regulación del estado de ánimo y las emociones.'}]\n"
     ]
    }
   ],
   "source": [
    "import json\n",
    "import os\n",
    "\n",
    "\n",
    "# Check if 'dataset.json' exists\n",
    "if os.path.exists('dataset_medico.json'):\n",
    "    # Load the dataset from the JSON file\n",
    "    try:\n",
    "        with open('dataset_medico.json', 'r', encoding='utf-8') as file:\n",
    "            dataset_medico = json.load(file)\n",
    "        print(\"Dataset cargado desde 'dataset.json'\")\n",
    "    except Exception as e:\n",
    "        print(f\"Error al cargar el archivo JSON: {e}\")\n",
    "        dataset_medico = None\n",
    "else:\n",
    "    # Generate the dataset and save it to a JSON file\n",
    "    dataset_medico = generar_dataset_medico(5)  # Generate dataset with 5 entries\n",
    "    try:\n",
    "        with open('dataset_medico.json', 'w', encoding='utf-8') as file:\n",
    "            json.dump(dataset_medico, file, ensure_ascii=False, indent=4)\n",
    "        print(\"Dataset generado y guardado en 'dataset_medico.json'\")\n",
    "    except Exception as e:\n",
    "        print(f\"Error al guardar el archivo JSON: {e}\")\n",
    "\n",
    "# Check if the dataset is available\n",
    "if dataset_medico is not None:\n",
    "    print(\"Dataset rows: \", len(dataset_medico))\n",
    "    print(\"Ejemplo:\", dataset_medico[:1])\n",
    "else:\n",
    "    print(\"No se pudo cargar o generar el dataset.\")"
   ]
  },
  {
   "cell_type": "markdown",
   "id": "ba7d964a-3c11-421c-8982-1f8ec1e77c5f",
   "metadata": {},
   "source": [
    "# PARTE 2: Ejecutar inferencia con el modelo sobre cada entrada y guardar los resultados en un archivo local"
   ]
  },
  {
   "cell_type": "code",
   "execution_count": 11,
   "id": "f423c460-ab1a-41dd-ad3c-993ef21b4b98",
   "metadata": {},
   "outputs": [
    {
     "name": "stdout",
     "output_type": "stream",
     "text": [
      "Ejecutando caso: 1 \n",
      "Ejecutando caso: 2 \n",
      "Ejecutando caso: 3 \n",
      "Ejecutando caso: 4 \n",
      "Ejecutando caso: 5 \n",
      "Resultados guardados en 'llama_outputs.csv'\n"
     ]
    }
   ],
   "source": [
    "import pandas as pd\n",
    "from transformers import AutoModelForCausalLM, AutoTokenizer\n",
    "\n",
    "\n",
    "def inferir_modelo(model, tokenizer, texto_input):\n",
    "    # Tokeniza el input\n",
    "    inputs = tokenizer(texto_input, return_tensors=\"pt\").to(\"cuda\")\n",
    "    # Genera la respuesta (puedes ajustar max_new_tokens y otros parámetros)\n",
    "    outputs = model.generate(input_ids=inputs.input_ids, max_new_tokens=256, use_cache=True)\n",
    "    # Decodifica la respuesta\n",
    "    respuesta = tokenizer.batch_decode(outputs, skip_special_tokens=True)[0][87 + len(texto_input):]\n",
    "    return respuesta\n",
    "\n",
    "# Lista para almacenar los resultados finales\n",
    "resultados = []\n",
    "\n",
    "current_number = 1\n",
    "# Recorre cada caso en el dataset generado (asegúrate de que dataset_medico es una lista de diccionarios)\n",
    "for caso in dataset_medico:\n",
    "    print(f\"Ejecutando caso: {current_number} \")\n",
    "    current_number += 1\n",
    "    \n",
    "    pregunta = caso.get(\"input\")\n",
    "    respuesta_esperada = caso.get(\"expected_output\")\n",
    "    \n",
    "    # Ejecuta inferencia con Model A\n",
    "    phi_output = inferir_modelo(model, tokenizer, pregunta)\n",
    "    \n",
    "    # Guarda en el diccionario\n",
    "    resultados.append({\n",
    "        \"input\": pregunta,\n",
    "        \"expected_output\": respuesta_esperada,\n",
    "        \"llama_output\": phi_output,\n",
    "        # Aquí podrías agregar también el puntaje si usas una métrica (más adelante)\n",
    "    })\n",
    "\n",
    "# Convierte la lista de resultados en un DataFrame de pandas y guarda en CSV\n",
    "df = pd.DataFrame(resultados)\n",
    "df.to_csv(\"llama_outputs.csv\", index=False)\n",
    "print(\"Resultados guardados en 'llama_outputs.csv'\")\n"
   ]
  },
  {
   "cell_type": "code",
   "execution_count": 12,
   "id": "1ca5f2ba-6699-448f-8a18-5714051f1029",
   "metadata": {},
   "outputs": [
    {
     "data": {
      "text/html": [
       "<div>\n",
       "<style scoped>\n",
       "    .dataframe tbody tr th:only-of-type {\n",
       "        vertical-align: middle;\n",
       "    }\n",
       "\n",
       "    .dataframe tbody tr th {\n",
       "        vertical-align: top;\n",
       "    }\n",
       "\n",
       "    .dataframe thead th {\n",
       "        text-align: right;\n",
       "    }\n",
       "</style>\n",
       "<table border=\"1\" class=\"dataframe\">\n",
       "  <thead>\n",
       "    <tr style=\"text-align: right;\">\n",
       "      <th></th>\n",
       "      <th>input</th>\n",
       "      <th>expected_output</th>\n",
       "      <th>llama_output</th>\n",
       "    </tr>\n",
       "  </thead>\n",
       "  <tbody>\n",
       "    <tr>\n",
       "      <th>0</th>\n",
       "      <td>¿Qué es el sistema endocrino y cuál es su func...</td>\n",
       "      <td>El sistema endocrino es una red de glándulas y...</td>\n",
       "      <td>regulan el metabolismo, crecimiento y desarrol...</td>\n",
       "    </tr>\n",
       "    <tr>\n",
       "      <th>1</th>\n",
       "      <td>¿Qué es la diabetes y cómo está relacionada co...</td>\n",
       "      <td>La diabetes es una enfermedad crónica en la qu...</td>\n",
       "      <td>ndo. Se caracteriza por una alteración en la p...</td>\n",
       "    </tr>\n",
       "    <tr>\n",
       "      <th>2</th>\n",
       "      <td>¿Qué hormonas produce la glándula tiroides y q...</td>\n",
       "      <td>La glándula tiroides produce principalmente do...</td>\n",
       "      <td>n metabólica del cuerpo. En este capítulo, exp...</td>\n",
       "    </tr>\n",
       "    <tr>\n",
       "      <th>3</th>\n",
       "      <td>¿Cómo se diagnostica y se trata el hipotiroidi...</td>\n",
       "      <td>El hipotiroidismo se diagnostica generalmente ...</td>\n",
       "      <td>ión tisular del hígado. La evaluación de la fu...</td>\n",
       "    </tr>\n",
       "    <tr>\n",
       "      <th>4</th>\n",
       "      <td>¿Qué es el cortisol y cómo está relacionado co...</td>\n",
       "      <td>El cortisol es una hormona producida por las g...</td>\n",
       "      <td>el cuerpo humano. Está relacionado con el est...</td>\n",
       "    </tr>\n",
       "  </tbody>\n",
       "</table>\n",
       "</div>"
      ],
      "text/plain": [
       "                                               input  \\\n",
       "0  ¿Qué es el sistema endocrino y cuál es su func...   \n",
       "1  ¿Qué es la diabetes y cómo está relacionada co...   \n",
       "2  ¿Qué hormonas produce la glándula tiroides y q...   \n",
       "3  ¿Cómo se diagnostica y se trata el hipotiroidi...   \n",
       "4  ¿Qué es el cortisol y cómo está relacionado co...   \n",
       "\n",
       "                                     expected_output  \\\n",
       "0  El sistema endocrino es una red de glándulas y...   \n",
       "1  La diabetes es una enfermedad crónica en la qu...   \n",
       "2  La glándula tiroides produce principalmente do...   \n",
       "3  El hipotiroidismo se diagnostica generalmente ...   \n",
       "4  El cortisol es una hormona producida por las g...   \n",
       "\n",
       "                                        llama_output  \n",
       "0  regulan el metabolismo, crecimiento y desarrol...  \n",
       "1  ndo. Se caracteriza por una alteración en la p...  \n",
       "2  n metabólica del cuerpo. En este capítulo, exp...  \n",
       "3  ión tisular del hígado. La evaluación de la fu...  \n",
       "4   el cuerpo humano. Está relacionado con el est...  "
      ]
     },
     "execution_count": 12,
     "metadata": {},
     "output_type": "execute_result"
    }
   ],
   "source": [
    "df\n",
    "#df[\"phi_output\"][1]"
   ]
  },
  {
   "cell_type": "markdown",
   "id": "60667f3f-76ac-4840-b353-3a52eb151149",
   "metadata": {},
   "source": [
    "## Creating the evaluation metric (prompt)"
   ]
  },
  {
   "cell_type": "code",
   "execution_count": 13,
   "id": "05e62307-f931-4f29-9583-60da5d832251",
   "metadata": {},
   "outputs": [],
   "source": [
    "from deepeval.metrics import GEval\n",
    "from deepeval.test_case import LLMTestCaseParams\n",
    "\n",
    "medical_correctness_metric = GEval(\n",
    "    name=\"MedicalCorrectness\",\n",
    "    criteria=\"Determinar si la respuesta médica proporcionada es correcta, clínica y segura comparándola con la respuesta esperada y estándares médicos.\",\n",
    "    evaluation_steps=[\n",
    "        \"Verificar que los hechos y datos médicos en la 'actual output' sean correctos según la 'expected output' y conocimiento médico estándar.\",\n",
    "        \"Evaluar si se utiliza la terminología médica apropiada y se siguen guías clínicas reconocidas.\",\n",
    "        \"Penalizar la omisión de detalles importantes que puedan afectar la seguridad o la precisión clínica.\",\n",
    "        \"Permitir ligeras diferencias en la redacción siempre y cuando el contenido clínico sea correcto y seguro.\"\n",
    "    ],\n",
    "    evaluation_params=[\n",
    "        LLMTestCaseParams.INPUT, \n",
    "        LLMTestCaseParams.ACTUAL_OUTPUT, \n",
    "        LLMTestCaseParams.EXPECTED_OUTPUT\n",
    "    ],\n",
    "    threshold=0.7,  # Este umbral se utiliza para determinar un \"pass\" o \"fail\", pero el score en sí es un valor continuo.\n",
    "    model=\"gpt-4o-mini\"\n",
    ")"
   ]
  },
  {
   "cell_type": "code",
   "execution_count": 14,
   "id": "9b99edf2-feda-4bc5-9379-fb542eb5cd11",
   "metadata": {},
   "outputs": [
    {
     "data": {
      "application/vnd.jupyter.widget-view+json": {
       "model_id": "4119a8c7604a4f96973f38489a7650ee",
       "version_major": 2,
       "version_minor": 0
      },
      "text/plain": [
       "Output()"
      ]
     },
     "metadata": {},
     "output_type": "display_data"
    },
    {
     "data": {
      "text/html": [
       "<pre style=\"white-space:pre;overflow-x:auto;line-height:normal;font-family:Menlo,'DejaVu Sans Mono',consolas,'Courier New',monospace\">Event loop is already running. Applying nest_asyncio patch to allow async execution...\n",
       "</pre>\n"
      ],
      "text/plain": [
       "Event loop is already running. Applying nest_asyncio patch to allow async execution...\n"
      ]
     },
     "metadata": {},
     "output_type": "display_data"
    },
    {
     "data": {
      "text/html": [
       "<pre style=\"white-space:pre;overflow-x:auto;line-height:normal;font-family:Menlo,'DejaVu Sans Mono',consolas,'Courier New',monospace\"></pre>\n"
      ],
      "text/plain": []
     },
     "metadata": {},
     "output_type": "display_data"
    },
    {
     "data": {
      "application/vnd.jupyter.widget-view+json": {
       "model_id": "3f50cdb1af2543c9a58a03e1c891e953",
       "version_major": 2,
       "version_minor": 0
      },
      "text/plain": [
       "Output()"
      ]
     },
     "metadata": {},
     "output_type": "display_data"
    },
    {
     "data": {
      "text/html": [
       "<pre style=\"white-space:pre;overflow-x:auto;line-height:normal;font-family:Menlo,'DejaVu Sans Mono',consolas,'Courier New',monospace\">Event loop is already running. Applying nest_asyncio patch to allow async execution...\n",
       "</pre>\n"
      ],
      "text/plain": [
       "Event loop is already running. Applying nest_asyncio patch to allow async execution...\n"
      ]
     },
     "metadata": {},
     "output_type": "display_data"
    },
    {
     "data": {
      "text/html": [
       "<pre style=\"white-space:pre;overflow-x:auto;line-height:normal;font-family:Menlo,'DejaVu Sans Mono',consolas,'Courier New',monospace\"></pre>\n"
      ],
      "text/plain": []
     },
     "metadata": {},
     "output_type": "display_data"
    },
    {
     "data": {
      "application/vnd.jupyter.widget-view+json": {
       "model_id": "d777db2d6ea64de0b2b42a09a5813cde",
       "version_major": 2,
       "version_minor": 0
      },
      "text/plain": [
       "Output()"
      ]
     },
     "metadata": {},
     "output_type": "display_data"
    },
    {
     "data": {
      "text/html": [
       "<pre style=\"white-space:pre;overflow-x:auto;line-height:normal;font-family:Menlo,'DejaVu Sans Mono',consolas,'Courier New',monospace\">Event loop is already running. Applying nest_asyncio patch to allow async execution...\n",
       "</pre>\n"
      ],
      "text/plain": [
       "Event loop is already running. Applying nest_asyncio patch to allow async execution...\n"
      ]
     },
     "metadata": {},
     "output_type": "display_data"
    },
    {
     "data": {
      "text/html": [
       "<pre style=\"white-space:pre;overflow-x:auto;line-height:normal;font-family:Menlo,'DejaVu Sans Mono',consolas,'Courier New',monospace\"></pre>\n"
      ],
      "text/plain": []
     },
     "metadata": {},
     "output_type": "display_data"
    },
    {
     "data": {
      "application/vnd.jupyter.widget-view+json": {
       "model_id": "d8c635afc27849e0b09fb3817e0bf6c6",
       "version_major": 2,
       "version_minor": 0
      },
      "text/plain": [
       "Output()"
      ]
     },
     "metadata": {},
     "output_type": "display_data"
    },
    {
     "data": {
      "text/html": [
       "<pre style=\"white-space:pre;overflow-x:auto;line-height:normal;font-family:Menlo,'DejaVu Sans Mono',consolas,'Courier New',monospace\">Event loop is already running. Applying nest_asyncio patch to allow async execution...\n",
       "</pre>\n"
      ],
      "text/plain": [
       "Event loop is already running. Applying nest_asyncio patch to allow async execution...\n"
      ]
     },
     "metadata": {},
     "output_type": "display_data"
    },
    {
     "data": {
      "text/html": [
       "<pre style=\"white-space:pre;overflow-x:auto;line-height:normal;font-family:Menlo,'DejaVu Sans Mono',consolas,'Courier New',monospace\"></pre>\n"
      ],
      "text/plain": []
     },
     "metadata": {},
     "output_type": "display_data"
    },
    {
     "data": {
      "application/vnd.jupyter.widget-view+json": {
       "model_id": "ba1715d8610648deba8839834a60685e",
       "version_major": 2,
       "version_minor": 0
      },
      "text/plain": [
       "Output()"
      ]
     },
     "metadata": {},
     "output_type": "display_data"
    },
    {
     "data": {
      "text/html": [
       "<pre style=\"white-space:pre;overflow-x:auto;line-height:normal;font-family:Menlo,'DejaVu Sans Mono',consolas,'Courier New',monospace\">Event loop is already running. Applying nest_asyncio patch to allow async execution...\n",
       "</pre>\n"
      ],
      "text/plain": [
       "Event loop is already running. Applying nest_asyncio patch to allow async execution...\n"
      ]
     },
     "metadata": {},
     "output_type": "display_data"
    },
    {
     "data": {
      "text/html": [
       "<pre style=\"white-space:pre;overflow-x:auto;line-height:normal;font-family:Menlo,'DejaVu Sans Mono',consolas,'Courier New',monospace\"></pre>\n"
      ],
      "text/plain": []
     },
     "metadata": {},
     "output_type": "display_data"
    },
    {
     "name": "stdout",
     "output_type": "stream",
     "text": [
      "Evaluation completed. First 5 rows:\n",
      "                                               input  \\\n",
      "0  ¿Qué es el sistema endocrino y cuál es su func...   \n",
      "1  ¿Qué es la diabetes y cómo está relacionada co...   \n",
      "2  ¿Qué hormonas produce la glándula tiroides y q...   \n",
      "3  ¿Cómo se diagnostica y se trata el hipotiroidi...   \n",
      "4  ¿Qué es el cortisol y cómo está relacionado co...   \n",
      "\n",
      "                                     expected_output  \\\n",
      "0  El sistema endocrino es una red de glándulas y...   \n",
      "1  La diabetes es una enfermedad crónica en la qu...   \n",
      "2  La glándula tiroides produce principalmente do...   \n",
      "3  El hipotiroidismo se diagnostica generalmente ...   \n",
      "4  El cortisol es una hormona producida por las g...   \n",
      "\n",
      "                                        llama_output llama_score result  \n",
      "0  regulan el metabolismo, crecimiento y desarrol...    0.530026  FALLÓ  \n",
      "1  ndo. Se caracteriza por una alteración en la p...        0.65  FALLÓ  \n",
      "2  n metabólica del cuerpo. En este capítulo, exp...    0.591138  FALLÓ  \n",
      "3  ión tisular del hígado. La evaluación de la fu...    0.232082  FALLÓ  \n",
      "4   el cuerpo humano. Está relacionado con el est...    0.624153  FALLÓ  \n"
     ]
    }
   ],
   "source": [
    "import pandas as pd\n",
    "from deepeval.test_case import LLMTestCase\n",
    "\n",
    "\n",
    "# Load your dataset\n",
    "df = pd.read_csv('llama_outputs.csv')  # Replace with your actual dataset path\n",
    "\n",
    "# Create columns to store results\n",
    "df['llama_score'] = None\n",
    "df['result'] = None\n",
    "\n",
    "# Iterate through each row\n",
    "for index, row in df.iterrows():\n",
    "    try:\n",
    "        # Create test case from current row\n",
    "        test_case = LLMTestCase(\n",
    "            input=row['input'],\n",
    "            actual_output=row['llama_output'],\n",
    "            expected_output=row['expected_output']\n",
    "        )\n",
    "        \n",
    "        # Measure medical correctness\n",
    "        medical_correctness_metric.measure(test_case)\n",
    "        \n",
    "        # Store results\n",
    "        df.at[index, 'llama_score'] = medical_correctness_metric.score\n",
    "        df.at[index, 'result'] = (\n",
    "            \"PASÓ\" if medical_correctness_metric.score >= medical_correctness_metric.threshold \n",
    "            else \"FALLÓ\"\n",
    "        )\n",
    "        \n",
    "    except Exception as e:\n",
    "        print(f\"Error processing row {index}: {e}\")\n",
    "        df.at[index, 'result'] = \"ERROR\"\n",
    "\n",
    "# Save updated dataset (optional)\n",
    "df.to_csv('llama_scores.csv', index=False)\n",
    "\n",
    "print(\"Evaluation completed. First 5 rows:\")\n",
    "print(df.head())"
   ]
  },
  {
   "cell_type": "code",
   "execution_count": 15,
   "id": "685c208b-e1b5-4fc7-bf2f-fc23e4ae0424",
   "metadata": {},
   "outputs": [
    {
     "data": {
      "text/html": [
       "<div>\n",
       "<style scoped>\n",
       "    .dataframe tbody tr th:only-of-type {\n",
       "        vertical-align: middle;\n",
       "    }\n",
       "\n",
       "    .dataframe tbody tr th {\n",
       "        vertical-align: top;\n",
       "    }\n",
       "\n",
       "    .dataframe thead th {\n",
       "        text-align: right;\n",
       "    }\n",
       "</style>\n",
       "<table border=\"1\" class=\"dataframe\">\n",
       "  <thead>\n",
       "    <tr style=\"text-align: right;\">\n",
       "      <th></th>\n",
       "      <th>input</th>\n",
       "      <th>expected_output</th>\n",
       "      <th>llama_output</th>\n",
       "      <th>llama_score</th>\n",
       "      <th>result</th>\n",
       "    </tr>\n",
       "  </thead>\n",
       "  <tbody>\n",
       "    <tr>\n",
       "      <th>0</th>\n",
       "      <td>¿Qué es el sistema endocrino y cuál es su func...</td>\n",
       "      <td>El sistema endocrino es una red de glándulas y...</td>\n",
       "      <td>regulan el metabolismo, crecimiento y desarrol...</td>\n",
       "      <td>0.530026</td>\n",
       "      <td>FALLÓ</td>\n",
       "    </tr>\n",
       "    <tr>\n",
       "      <th>1</th>\n",
       "      <td>¿Qué es la diabetes y cómo está relacionada co...</td>\n",
       "      <td>La diabetes es una enfermedad crónica en la qu...</td>\n",
       "      <td>ndo. Se caracteriza por una alteración en la p...</td>\n",
       "      <td>0.65</td>\n",
       "      <td>FALLÓ</td>\n",
       "    </tr>\n",
       "    <tr>\n",
       "      <th>2</th>\n",
       "      <td>¿Qué hormonas produce la glándula tiroides y q...</td>\n",
       "      <td>La glándula tiroides produce principalmente do...</td>\n",
       "      <td>n metabólica del cuerpo. En este capítulo, exp...</td>\n",
       "      <td>0.591138</td>\n",
       "      <td>FALLÓ</td>\n",
       "    </tr>\n",
       "    <tr>\n",
       "      <th>3</th>\n",
       "      <td>¿Cómo se diagnostica y se trata el hipotiroidi...</td>\n",
       "      <td>El hipotiroidismo se diagnostica generalmente ...</td>\n",
       "      <td>ión tisular del hígado. La evaluación de la fu...</td>\n",
       "      <td>0.232082</td>\n",
       "      <td>FALLÓ</td>\n",
       "    </tr>\n",
       "    <tr>\n",
       "      <th>4</th>\n",
       "      <td>¿Qué es el cortisol y cómo está relacionado co...</td>\n",
       "      <td>El cortisol es una hormona producida por las g...</td>\n",
       "      <td>el cuerpo humano. Está relacionado con el est...</td>\n",
       "      <td>0.624153</td>\n",
       "      <td>FALLÓ</td>\n",
       "    </tr>\n",
       "  </tbody>\n",
       "</table>\n",
       "</div>"
      ],
      "text/plain": [
       "                                               input  \\\n",
       "0  ¿Qué es el sistema endocrino y cuál es su func...   \n",
       "1  ¿Qué es la diabetes y cómo está relacionada co...   \n",
       "2  ¿Qué hormonas produce la glándula tiroides y q...   \n",
       "3  ¿Cómo se diagnostica y se trata el hipotiroidi...   \n",
       "4  ¿Qué es el cortisol y cómo está relacionado co...   \n",
       "\n",
       "                                     expected_output  \\\n",
       "0  El sistema endocrino es una red de glándulas y...   \n",
       "1  La diabetes es una enfermedad crónica en la qu...   \n",
       "2  La glándula tiroides produce principalmente do...   \n",
       "3  El hipotiroidismo se diagnostica generalmente ...   \n",
       "4  El cortisol es una hormona producida por las g...   \n",
       "\n",
       "                                        llama_output llama_score result  \n",
       "0  regulan el metabolismo, crecimiento y desarrol...    0.530026  FALLÓ  \n",
       "1  ndo. Se caracteriza por una alteración en la p...        0.65  FALLÓ  \n",
       "2  n metabólica del cuerpo. En este capítulo, exp...    0.591138  FALLÓ  \n",
       "3  ión tisular del hígado. La evaluación de la fu...    0.232082  FALLÓ  \n",
       "4   el cuerpo humano. Está relacionado con el est...    0.624153  FALLÓ  "
      ]
     },
     "execution_count": 15,
     "metadata": {},
     "output_type": "execute_result"
    }
   ],
   "source": [
    "df"
   ]
  },
  {
   "cell_type": "code",
   "execution_count": 16,
   "id": "4d263aaf-509f-4424-a530-3295b9b56fdb",
   "metadata": {},
   "outputs": [
    {
     "data": {
      "text/plain": [
       "0.5254798469645543"
      ]
     },
     "execution_count": 16,
     "metadata": {},
     "output_type": "execute_result"
    }
   ],
   "source": [
    "llama_average_score = df[\"llama_score\"].mean()\n",
    "llama_average_score"
   ]
  },
  {
   "cell_type": "code",
   "execution_count": null,
   "id": "7e4316c2-ab91-415b-b933-115c187b4436",
   "metadata": {},
   "outputs": [],
   "source": []
  }
 ],
 "metadata": {
  "kernelspec": {
   "display_name": "Python 3 (ipykernel)",
   "language": "python",
   "name": "python3"
  },
  "language_info": {
   "codemirror_mode": {
    "name": "ipython",
    "version": 3
   },
   "file_extension": ".py",
   "mimetype": "text/x-python",
   "name": "python",
   "nbconvert_exporter": "python",
   "pygments_lexer": "ipython3",
   "version": "3.10.12"
  }
 },
 "nbformat": 4,
 "nbformat_minor": 5
}
